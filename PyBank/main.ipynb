{
 "cells": [
  {
   "cell_type": "code",
   "execution_count": 279,
   "id": "3b76ed2f-600b-45ad-b7f9-e87555cf75bf",
   "metadata": {},
   "outputs": [
    {
     "name": "stdout",
     "output_type": "stream",
     "text": [
      "        Date  Profit/Losses\n",
      "0   Jan-2010         867884\n",
      "1   Feb-2010         984655\n",
      "2   Mar-2010         322013\n",
      "3   Apr-2010         -69417\n",
      "4   May-2010         310503\n",
      "..       ...            ...\n",
      "81  Oct-2016         102685\n",
      "82  Nov-2016         795914\n",
      "83  Dec-2016          60988\n",
      "84  Jan-2017         138230\n",
      "85  Feb-2017         671099\n",
      "\n",
      "[86 rows x 2 columns]\n"
     ]
    }
   ],
   "source": [
    "##Load data\n",
    "import pandas as pd\n",
    "from pathlib import Path\n",
    "import csv\n",
    "csvpath = Path(\"budget_data.csv\")\n",
    "budget_data = pd.read_csv(csvpath, header=0)\n",
    "\n",
    "\n",
    "##Get number of columns\n",
    "data_shape=budget_data.shape\n",
    "total_months=data_shape[0]\n",
    "type(budget_data)\n",
    "print(budget_data)"
   ]
  },
  {
   "cell_type": "code",
   "execution_count": 280,
   "id": "054f10cf-158d-443a-b834-ea799c12acbe",
   "metadata": {},
   "outputs": [
    {
     "data": {
      "text/plain": [
       "(86, 2)"
      ]
     },
     "execution_count": 280,
     "metadata": {},
     "output_type": "execute_result"
    }
   ],
   "source": [
    "budget_data.shape"
   ]
  },
  {
   "cell_type": "code",
   "execution_count": 281,
   "id": "759845ac-875e-41d0-846d-028ad4cd5143",
   "metadata": {},
   "outputs": [
    {
     "data": {
      "text/plain": [
       "Date             Jan-2010\n",
       "Profit/Losses      867884\n",
       "Name: 0, dtype: object"
      ]
     },
     "execution_count": 281,
     "metadata": {},
     "output_type": "execute_result"
    }
   ],
   "source": [
    "budget_data.iloc[0]"
   ]
  },
  {
   "cell_type": "code",
   "execution_count": 282,
   "id": "22e6c418-aa9c-487e-a83d-0de6cc1469a7",
   "metadata": {},
   "outputs": [
    {
     "name": "stdout",
     "output_type": "stream",
     "text": [
      "38382578\n"
     ]
    }
   ],
   "source": [
    "##Calculate total profits\n",
    "\n",
    "total_profit=0\n",
    "\n",
    "for x in budget_data.iloc[:,1]:\n",
    "    total_profit += x\n",
    "    #print(total_profit)\n",
    "print(total_profit) \n"
   ]
  },
  {
   "cell_type": "code",
   "execution_count": 283,
   "id": "6fbd5557-4fe5-4724-9f6c-08b60cf774fe",
   "metadata": {},
   "outputs": [
    {
     "name": "stdout",
     "output_type": "stream",
     "text": [
      "6196.1511627906975\n"
     ]
    }
   ],
   "source": [
    "# Average difference\n",
    "initial_value=budget_data.iloc[0,1]\n",
    "iteration = 0\n",
    "\n",
    "for x in budget_data.iloc[1:,1]:\n",
    "    aver_diff= x-budget_data.iloc[(iteration),1]\n",
    "    iteration +=1\n",
    "    aver_diff = aver_diff/total_months\n",
    "    #print(aver_diff) \n",
    "    \n",
    "print(aver_diff)  "
   ]
  },
  {
   "cell_type": "code",
   "execution_count": 284,
   "id": "88d4503c-76f5-4f33-bc5a-d782275f8faa",
   "metadata": {},
   "outputs": [],
   "source": [
    "#Calculate max and min differences\n",
    "max_diff = 0\n",
    "min_diff = 0\n",
    "iteration = 0\n",
    "\n",
    "for x in budget_data.iloc[:,1]:\n",
    "    if x > max_diff:\n",
    "        max_diff = x\n",
    "    elif x < min_diff:\n",
    "        min_diff = x\n",
    "    #print(x)\n",
    "\n"
   ]
  },
  {
   "cell_type": "code",
   "execution_count": 285,
   "id": "c46b1c51-878d-4116-a6ac-5350d6d66a0c",
   "metadata": {},
   "outputs": [
    {
     "name": "stdout",
     "output_type": "stream",
     "text": [
      "Financial Analysis\n",
      "----------------------------\n",
      "Total months =86\n",
      "Average change = 6196.1511627906975\n",
      "Greatest increase in profits = 1170593\n",
      "Greatest decrease in profits = -1196225\n"
     ]
    }
   ],
   "source": [
    "print(\"Financial Analysis\")\n",
    "print(\"----------------------------\")\n",
    "print(\"Total months =\" + str(total_months))\n",
    "print(\"Average change = \" + str(aver_diff))\n",
    "print(\"Greatest increase in profits = \" + str(max_diff))\n",
    "print(\"Greatest decrease in profits = \" + str(min_diff))"
   ]
  },
  {
   "cell_type": "code",
   "execution_count": 298,
   "id": "7b45e431-1586-40d0-98de-668e5d003689",
   "metadata": {},
   "outputs": [],
   "source": [
    "with open(\"out.txt\", \"w\") as o:\n",
    "    o.write(\"Financial Analysis\\n\")\n",
    "    o.write(\"----------------------------\\n\")\n",
    "    o.write(\"Total months =\" + str(total_months)+\"\\n\")\n",
    "    o.write(\"Average change = \" + str(aver_diff)+\"\\n\")\n",
    "    o.write(\"Greatest increase in profits = \" + str(max_diff)+\"\\n\")\n",
    "    o.write(\"Greatest decrease in profits = \" + str(min_diff)+\"\\n\")"
   ]
  },
  {
   "cell_type": "code",
   "execution_count": null,
   "id": "4670b16f-a37e-44f3-b613-6955e383ce3b",
   "metadata": {},
   "outputs": [],
   "source": []
  },
  {
   "cell_type": "code",
   "execution_count": null,
   "id": "dfb59c1b-f750-4e86-9ea3-2fd271fad93f",
   "metadata": {},
   "outputs": [],
   "source": []
  }
 ],
 "metadata": {
  "kernelspec": {
   "display_name": "Python 3 (ipykernel)",
   "language": "python",
   "name": "python3"
  },
  "language_info": {
   "codemirror_mode": {
    "name": "ipython",
    "version": 3
   },
   "file_extension": ".py",
   "mimetype": "text/x-python",
   "name": "python",
   "nbconvert_exporter": "python",
   "pygments_lexer": "ipython3",
   "version": "3.9.7"
  }
 },
 "nbformat": 4,
 "nbformat_minor": 5
}
